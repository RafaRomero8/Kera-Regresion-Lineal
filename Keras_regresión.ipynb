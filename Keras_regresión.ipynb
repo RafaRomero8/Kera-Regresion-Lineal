{
  "nbformat": 4,
  "nbformat_minor": 0,
  "metadata": {
    "colab": {
      "provenance": [],
      "authorship_tag": "ABX9TyOScOgKQ+FJxX95vQ0K65/W",
      "include_colab_link": true
    },
    "kernelspec": {
      "name": "python3",
      "display_name": "Python 3"
    },
    "language_info": {
      "name": "python"
    }
  },
  "cells": [
    {
      "cell_type": "markdown",
      "metadata": {
        "id": "view-in-github",
        "colab_type": "text"
      },
      "source": [
        "<a href=\"https://colab.research.google.com/github/RafaRomero8/Kera-Regresion-Lineal/blob/main/Keras_regresi%C3%B3n.ipynb\" target=\"_parent\"><img src=\"https://colab.research.google.com/assets/colab-badge.svg\" alt=\"Open In Colab\"/></a>"
      ]
    },
    {
      "cell_type": "code",
      "execution_count": null,
      "metadata": {
        "id": "UIuxG0a6-kSc"
      },
      "outputs": [],
      "source": [
        "import pandas as pd\n",
        "import numpy as np\n",
        "import matplotlib.pyplot as plt\n",
        "\n",
        "#modulos de keras\n",
        "from keras.models import Sequential\n",
        "from keras.layers.core import Dense\n",
        "from keras.optimizers import SGD\n"
      ]
    },
    {
      "cell_type": "code",
      "source": [
        "from google.colab import drive\n",
        "drive.mount('/content/drive')"
      ],
      "metadata": {
        "colab": {
          "base_uri": "https://localhost:8080/"
        },
        "id": "XC2uppdf-9oW",
        "outputId": "2a2e5de7-1e1d-444d-a80e-5e6c160a3d7b"
      },
      "execution_count": null,
      "outputs": [
        {
          "output_type": "stream",
          "name": "stdout",
          "text": [
            "Mounted at /content/drive\n"
          ]
        }
      ]
    },
    {
      "cell_type": "code",
      "source": [
        "# Lectura y visualización del set de datos\n",
        "datos = pd.read_csv('/content/dataset.csv', sep=\",\", skiprows=32, usecols=[2,3])\n",
        "print(datos)"
      ],
      "metadata": {
        "colab": {
          "base_uri": "https://localhost:8080/"
        },
        "id": "uFBrTRR7-rNy",
        "outputId": "b0fd3626-239d-4f07-b8a3-e3b9ba4c4787"
      },
      "execution_count": null,
      "outputs": [
        {
          "output_type": "stream",
          "name": "stdout",
          "text": [
            "    Age  Systolic blood pressure\n",
            "0    39                      144\n",
            "1    45                      138\n",
            "2    47                      145\n",
            "3    65                      162\n",
            "4    46                      142\n",
            "5    67                      170\n",
            "6    42                      124\n",
            "7    67                      158\n",
            "8    56                      154\n",
            "9    64                      162\n",
            "10   56                      150\n",
            "11   59                      140\n",
            "12   34                      110\n",
            "13   42                      128\n",
            "14   48                      130\n",
            "15   45                      135\n",
            "16   17                      114\n",
            "17   20                      116\n",
            "18   19                      124\n",
            "19   36                      136\n",
            "20   50                      142\n",
            "21   39                      120\n",
            "22   21                      120\n",
            "23   44                      160\n",
            "24   53                      158\n",
            "25   63                      144\n",
            "26   29                      130\n",
            "27   25                      125\n",
            "28   69                      175\n"
          ]
        }
      ]
    },
    {
      "cell_type": "code",
      "source": [
        "# Al graficar los datos se observa una tendencia lineal\n",
        "datos.plot.scatter(x='Age', y='Systolic blood pressure')\n",
        "plt.xlabel('Edad (años)')\n",
        "plt.ylabel('Presión sistólica (mm de Mercurio)')\n",
        "plt.show()\n",
        "\n",
        "x = datos['Age'].values\n",
        "y = datos['Systolic blood pressure'].values"
      ],
      "metadata": {
        "colab": {
          "base_uri": "https://localhost:8080/",
          "height": 279
        },
        "id": "JXsALcLH_a0t",
        "outputId": "7aad5611-d706-43fc-d499-a61d2bbacc59"
      },
      "execution_count": null,
      "outputs": [
        {
          "output_type": "display_data",
          "data": {
            "text/plain": [
              "<Figure size 432x288 with 1 Axes>"
            ],
            "image/png": "[encoded data removed]"
          },
          "metadata": {
            "needs_background": "light"
          }
        }
      ]
    },
    {
      "cell_type": "code",
      "source": [
        "\n",
        "# Construir el modelo en Keras\n",
        "\n",
        "# - Capa de entrada: 1 dato (cada dato \"x\" correspondiente a la edad)\n",
        "# - Capa de salida: 1 dato (cada dato \"y\" correspondiente a la regresión lineal)\n",
        "# - Activación: 'linear' (pues se está implementando la regresión lineal)\n",
        "np.random.seed(2)\t\t\t# Para reproducibilidad del entrenamiento\n",
        "\n",
        "input_dim = 1\n",
        "output_dim = 1\n",
        "modelo = Sequential() #crea un objeto\n",
        "modelo.add(Dense(output_dim, input_dim=input_dim, activation='linear'))\n",
        "#dense requiere parametros como la dimensión de los datos(output_dim) al igual que input_dim #y nuestra funcion de activación que es linear"
      ],
      "metadata": {
        "id": "-0Iq6G0__a30"
      },
      "execution_count": null,
      "outputs": []
    },
    {
      "cell_type": "code",
      "source": [
        "# Definición del método de optimización (gradiente descendiente), con una\n",
        "# tasa de aprendizaje de 0.0004 y una pérdida igual al error cuadrático\n",
        "# medio para minimizar el error(mse)\n",
        "\n",
        "sgd = SGD(lr=0.0004)#gradiente descendiente con una tasa\n",
        "modelo.compile(loss='mse', optimizer=sgd)\n",
        "\n",
        "# Imprimir en pantalla la información del modelo\n",
        "modelo.summary()\n"
      ],
      "metadata": {
        "colab": {
          "base_uri": "https://localhost:8080/"
        },
        "id": "z8kbkj9V_bCi",
        "outputId": "c5fce409-66d7-4b2a-873d-e6d6254e0f1b"
      },
      "execution_count": null,
      "outputs": [
        {
          "output_type": "stream",
          "name": "stdout",
          "text": [
            "Model: \"sequential\"\n",
            "_________________________________________________________________\n",
            " Layer (type)                Output Shape              Param #   \n",
            "=================================================================\n",
            " dense (Dense)               (None, 1)                 2         \n",
            "                                                                 \n",
            "=================================================================\n",
            "Total params: 2\n",
            "Trainable params: 2\n",
            "Non-trainable params: 0\n",
            "_________________________________________________________________\n"
          ]
        },
        {
          "output_type": "stream",
          "name": "stderr",
          "text": [
            "/usr/local/lib/python3.9/dist-packages/keras/optimizers/optimizer_v2/gradient_descent.py:114: UserWarning: The `lr` argument is deprecated, use `learning_rate` instead.\n",
            "  super().__init__(name, **kwargs)\n"
          ]
        }
      ]
    },
    {
      "cell_type": "code",
      "source": [
        "# Entrenamiento: realizar la regresión lineal\n",
        "\n",
        "# 40000 iteraciones y todos los datos de entrenamiento (29) se usarán en cada\n",
        "# iteración (batch_size = 29)\n",
        "\n",
        "num_epochs = 40000\n",
        "batch_size = x.shape[0]#en cada una de las iteraciones de los datos que tenemos \n",
        "#cuantos realmente vamos a utilizar para calcular,es decir le indicamos todos los datos\n",
        "history = modelo.fit(x, y, epochs=num_epochs, batch_size=batch_size, verbose=0)#entrenamos los datos\n"
      ],
      "metadata": {
        "id": "ktO63N9J_xEJ"
      },
      "execution_count": null,
      "outputs": []
    },
    {
      "cell_type": "code",
      "source": [
        "# Visualizar resultados del entrenamiento\n",
        "# Imprimir los coeficientes \"w\" y \"b\"\n",
        "capas = modelo.layers[0]\n",
        "w, b = capas.get_weights()\n",
        "print('Parámetros: w = {:.1f}, b = {:.1f}'.format(w[0][0],b[0]))"
      ],
      "metadata": {
        "colab": {
          "base_uri": "https://localhost:8080/"
        },
        "id": "x9bG56jv_xGi",
        "outputId": "e2141b67-b156-429a-bde6-e87531e3ada3"
      },
      "execution_count": null,
      "outputs": [
        {
          "output_type": "stream",
          "name": "stdout",
          "text": [
            "Parámetros: w = 1.0, b = 94.6\n"
          ]
        }
      ]
    },
    {
      "cell_type": "code",
      "source": [
        "# Graficar el error vs epochs y el resultado de la regresión\n",
        "# superpuesto a los datos originales\n",
        "plt.subplot(1,2,1)\n",
        "plt.plot(history.history['loss'])\n",
        "plt.xlabel('epoch')\n",
        "plt.ylabel('ECM')\n",
        "plt.title('ECM vs. epochs')\n",
        "\n",
        "y_regr = modelo.predict(x)\n",
        "plt.subplot(1, 2, 2)\n",
        "plt.scatter(x,y)\n",
        "plt.plot(x,y_regr,'r')\n",
        "plt.xlabel('x')\n",
        "plt.ylabel('y')\n",
        "plt.title('Datos originales y regresión lineal')\n",
        "plt.show()\n",
        "\n",
        "#en la gráfica del lado izquierdo vemos que a medida que avanza el entrenamiento el error se va haciendo mas pequeño\n",
        "#y la gráfica derecha vemos que los datos se ajusta bien al modelo a la  linea roja"
      ],
      "metadata": {
        "colab": {
          "base_uri": "https://localhost:8080/",
          "height": 312
        },
        "id": "0K4djR6p_51b",
        "outputId": "0d3765d6-68ed-440f-a705-b3c77c086798"
      },
      "execution_count": null,
      "outputs": [
        {
          "output_type": "stream",
          "name": "stdout",
          "text": [
            "1/1 [==============================] - 0s 30ms/step\n"
          ]
        },
        {
          "output_type": "display_data",
          "data": {
            "text/plain": [
              "<Figure size 432x288 with 2 Axes>"
            ],
            "image/png": "[encoded data removed]"
          },
          "metadata": {
            "needs_background": "light"
          }
        }
      ]
    },
    {
      "cell_type": "code",
      "source": [
        "# Predicción\n",
        "#hacemos una predicción para una persona de 90\n",
        "#¿Cuál será su presion sanguinea?\n",
        "x_pred = np.array([90])\n",
        "y_pred = modelo.predict(x_pred)\n",
        "print(\"La presión sanguínea será de {:.1f} mm-Hg\".format(y_pred[0][0]), \" para una persona de {} años\".format(x_pred[0]))"
      ],
      "metadata": {
        "colab": {
          "base_uri": "https://localhost:8080/"
        },
        "id": "ZXJ0V7ZZ_54E",
        "outputId": "1b0447bd-e362-41e7-fea5-f71f6c12394f"
      },
      "execution_count": null,
      "outputs": [
        {
          "output_type": "stream",
          "name": "stdout",
          "text": [
            "1/1 [==============================] - 0s 39ms/step\n",
            "La presión sanguínea será de 184.5 mm-Hg  para una persona de 90 años\n"
          ]
        }
      ]
    }
  ]
}